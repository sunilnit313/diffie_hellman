{
  "nbformat": 4,
  "nbformat_minor": 0,
  "metadata": {
    "colab": {
      "provenance": [],
      "authorship_tag": "ABX9TyPrIB9D4tJwnWwvut8DtBvH",
      "include_colab_link": true
    },
    "kernelspec": {
      "name": "python3",
      "display_name": "Python 3"
    }
  },
  "cells": [
    {
      "cell_type": "markdown",
      "metadata": {
        "id": "view-in-github",
        "colab_type": "text"
      },
      "source": [
        "<a href=\"https://colab.research.google.com/gist/sunilnit313/c922edfc8d3ef771277866a14e24b517/diffie-hellmanmethod.ipynb\" target=\"_parent\"><img src=\"https://colab.research.google.com/assets/colab-badge.svg\" alt=\"Open In Colab\"/></a>"
      ]
    },
    {
      "cell_type": "code",
      "metadata": {
        "id": "Sa5JWwWrySdX"
      },
      "source": [
        "import math\n",
        "import random"
      ],
      "execution_count": 4,
      "outputs": []
    },
    {
      "cell_type": "code",
      "metadata": {
        "colab": {
          "base_uri": "https://localhost:8080/"
        },
        "id": "FvaJcXHKyWO_",
        "outputId": "85e922d0-cd6c-43ff-f7b6-e4b0ca266634"
      },
      "source": [
        "P = int(input('Enter the value of P.'))\n",
        "g = int(input('Enter the value of g.'))"
      ],
      "execution_count": 5,
      "outputs": [
        {
          "name": "stdout",
          "output_type": "stream",
          "text": [
            "Enter the value of P.9\n",
            "Enter the value of g.67\n"
          ]
        }
      ]
    },
    {
      "cell_type": "code",
      "metadata": {
        "colab": {
          "base_uri": "https://localhost:8080/"
        },
        "id": "M0Nsaws7yhtW",
        "outputId": "1a2eecd0-bb4d-4c7e-b651-007f0bb27370"
      },
      "source": [
        "a = int(input(' \\n Enter the value of a.'))\n",
        "b = int(input(' Enter the value of b.'))\n",
        "c = int(input(' \\n Enter the value of c.'))\n"
      ],
      "execution_count": 6,
      "outputs": [
        {
          "name": "stdout",
          "output_type": "stream",
          "text": [
            " \n",
            " Enter the value of a.4\n",
            " Enter the value of b.34\n",
            " \n",
            " Enter the value of c.8\n"
          ]
        }
      ]
    },
    {
      "cell_type": "code",
      "metadata": {
        "colab": {
          "base_uri": "https://localhost:8080/"
        },
        "id": "q8sjzD6pyvrn",
        "outputId": "020d30cb-4af9-4d2c-b733-23c9e2cb5bb9"
      },
      "source": [
        "A = (g**a) % P\n",
        "print( \"\\n  A1 sends over to B2: \" , A )\n",
        " \n",
        "# B2 Sends A1 B = g^b mod P\n",
        "B = (g ** b) % P\n",
        "print( \"  B2 sends over to C2: \" , B )\n",
        "C = (g**c) % P\n",
        "print( \"\\n  C2 sends over to A1: \" , C )\n",
        " "
      ],
      "execution_count": 7,
      "outputs": [
        {
          "output_type": "stream",
          "name": "stdout",
          "text": [
            "\n",
            "  A1 sends over to B2:  4\n",
            "  B2 sends over to C2:  4\n",
            "\n",
            "  C2 sends over to A1:  7\n"
          ]
        }
      ]
    },
    {
      "cell_type": "code",
      "metadata": {
        "colab": {
          "base_uri": "https://localhost:8080/"
        },
        "id": "URKDREE87ik8",
        "outputId": "40dcb2ea-7c1b-4e09-8323-bcc9de3d020d"
      },
      "source": [
        "# A1 computes the Shared Secret: S_A1 = B^a mod P\n",
        "A1SharedSecret = (B ** a) % P\n",
        "print( \"    \\n  A1 Shared Secret: \", A1SharedSecret )\n",
        " \n",
        "# B2 computes the Shared Secret: S_B2 = C^b mod P\n",
        "B2SharedSecret = (C**b) % P\n",
        "print( \"  B2 Shared Secret: \", B2SharedSecret )\n",
        "# C2 computes the Shared Secret: S_C2 = A^c mod P\n",
        "C2SharedSecret = (A**c) % P\n",
        "print( \"  C2 Shared Secret: \", C2SharedSecret )"
      ],
      "execution_count": 8,
      "outputs": [
        {
          "output_type": "stream",
          "name": "stdout",
          "text": [
            "    \n",
            "  A1 Shared Secret:  4\n",
            "  B2 Shared Secret:  7\n",
            "  C2 Shared Secret:  7\n"
          ]
        }
      ]
    },
    {
      "cell_type": "code",
      "metadata": {
        "id": "psdKtBrQ8O-n"
      },
      "source": [],
      "execution_count": 8,
      "outputs": []
    }
  ]
}